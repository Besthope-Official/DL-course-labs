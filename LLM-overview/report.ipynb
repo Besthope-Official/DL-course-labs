{
 "cells": [
  {
   "cell_type": "markdown",
   "metadata": {
    "jp-MarkdownHeadingCollapsed": true
   },
   "source": [
    "# 对 HuggingFace 公开大模型的数据分析\n",
    "\n",
    "最受用户喜欢的文本生成模型是怎样的？"
   ]
  },
  {
   "cell_type": "markdown",
   "metadata": {},
   "source": [
    "# 数据爬取"
   ]
  },
  {
   "cell_type": "markdown",
   "metadata": {},
   "source": [
    "Hugging Face 仅提供 100 页（每页30个模型）的数据供浏览，也即 3000 个模型，但存放的数据远比这个多（截至2024.12.15有 1,201,412 个模型）。\n",
    "\n",
    "因此爬取全站的模型是不可行的，哪怕将范围拉到最近7天内的文本生成模型，就有超过 3000 个模型。因此，我们的爬取策略转换为\n",
    "\n",
    "- 爬取前 3000 个最受用户喜欢的文本生成模型\n",
    "\n",
    "对其进行数据分析。"
   ]
  },
  {
   "cell_type": "code",
   "execution_count": 1,
   "metadata": {},
   "outputs": [
    {
     "data": {
      "text/plain": [
       "{'author': 'Qwen',\n",
       " 'authorData': {'avatarUrl': 'https://cdn-avatars.huggingface.co/v1/production/uploads/620760a26e3b7210c2ff1943/-s1gyJfvbE1RgO5iBeNOi.png',\n",
       "  'fullname': 'Qwen',\n",
       "  'name': 'Qwen',\n",
       "  'type': 'org',\n",
       "  'isHf': False,\n",
       "  'isMod': False,\n",
       "  'isEnterprise': False,\n",
       "  'followerCount': 6262},\n",
       " 'downloads': 107082,\n",
       " 'gated': False,\n",
       " 'id': 'Qwen/QwQ-32B-Preview',\n",
       " 'inference': 'warm',\n",
       " 'lastModified': '2024-11-29T06:57:37.000Z',\n",
       " 'likes': 1302,\n",
       " 'pipeline_tag': 'text-generation',\n",
       " 'private': False,\n",
       " 'repoType': 'model',\n",
       " 'isLikedByUser': False,\n",
       " 'widgetOutputUrls': []}"
      ]
     },
     "execution_count": 1,
     "metadata": {},
     "output_type": "execute_result"
    }
   ],
   "source": [
    "import requests\n",
    "import json\n",
    "import os\n",
    "from typing import List\n",
    "# this url was reverse engineered\n",
    "base_url = \"https://huggingface.co/models-json\"\n",
    "\n",
    "def get_single_page_models(p) -> List[dict]:\n",
    "    '''30 models per page'''\n",
    "    assert 0 <= p <= 99, 'page must be positive and less than or equal to 99'\n",
    "    models = []\n",
    "    cache_path = f'cache/models_page_{p}.json'\n",
    "    # read from cache if exists\n",
    "    if os.path.exists(cache_path):\n",
    "        with open(cache_path, 'r') as f:\n",
    "            models = json.load(f)\n",
    "    else:\n",
    "        resp = requests.get(base_url, params={\"p\": p,\n",
    "                                              \"sort\": \"likes\",\n",
    "                                              \"pipeline_tag\": \"text-generation\",\n",
    "                                              \"withCount\": True    # default true\n",
    "                                              })\n",
    "        models = resp.json().get('models', [])\n",
    "        \n",
    "        if not os.path.exists('cache'):\n",
    "            os.makedirs('cache')\n",
    "        \n",
    "        with open(cache_path, 'w') as f:\n",
    "            json.dump(models, f)\n",
    "    \n",
    "    return models\n",
    "\n",
    "# example of model data\n",
    "get_single_page_models(1)[0]"
   ]
  },
  {
   "cell_type": "markdown",
   "metadata": {},
   "source": [
    "## 二级爬取\n",
    "\n",
    "模型参数作为标签不出现在概览中，针对模型大小的分析，我们考虑通过正则表达式来获取模型大小，例如\n",
    "\n",
    "`meta-llama/Llama-3.3-70B-Instruct` 就可以pattern匹配得到模型大小为70B。\n",
    "\n",
    "问题: 如果模型名不包含参数大小, 方法失效.\n",
    "\n",
    "此外, 有一些模型的参数比较特殊, 例如 `mistralai/Mixtral-8x7B-Instruct-v0.1` 提取出来是 8x7B? 7B? 但实际上是 46.7B.\n",
    "\n",
    "于是我们认为有需要进入详细页面爬取具体的模型参数, 来获取更精准的模型大小.\n",
    "\n",
    "![model size](images/model_size.png)"
   ]
  },
  {
   "cell_type": "code",
   "execution_count": 4,
   "metadata": {},
   "outputs": [
    {
     "ename": "ParserError",
     "evalue": "Document is empty",
     "output_type": "error",
     "traceback": [
      "\u001b[1;31m---------------------------------------------------------------------------\u001b[0m",
      "\u001b[1;31mParserError\u001b[0m                               Traceback (most recent call last)",
      "Cell \u001b[1;32mIn[4], line 36\u001b[0m\n\u001b[0;32m     32\u001b[0m     \u001b[38;5;28;01mreturn\u001b[39;00m model_size\n\u001b[0;32m     35\u001b[0m \u001b[38;5;66;03m# example usage\u001b[39;00m\n\u001b[1;32m---> 36\u001b[0m \u001b[38;5;28mprint\u001b[39m(get_model_para(\u001b[38;5;124m'\u001b[39m\u001b[38;5;124mCohereForAI/c4ai-command-r7b-12-2024\u001b[39m\u001b[38;5;124m'\u001b[39m))\n",
      "Cell \u001b[1;32mIn[4], line 24\u001b[0m, in \u001b[0;36mget_model_para\u001b[1;34m(model, cached)\u001b[0m\n\u001b[0;32m     21\u001b[0m         \u001b[38;5;28;01mwith\u001b[39;00m \u001b[38;5;28mopen\u001b[39m(cache_path, \u001b[38;5;124m'\u001b[39m\u001b[38;5;124mw\u001b[39m\u001b[38;5;124m'\u001b[39m) \u001b[38;5;28;01mas\u001b[39;00m f:\n\u001b[0;32m     22\u001b[0m             f\u001b[38;5;241m.\u001b[39mwrite(raw_html)\n\u001b[1;32m---> 24\u001b[0m tree \u001b[38;5;241m=\u001b[39m html\u001b[38;5;241m.\u001b[39mfromstring(raw_html)\n\u001b[0;32m     25\u001b[0m \u001b[38;5;28;01mtry\u001b[39;00m:\n\u001b[0;32m     26\u001b[0m     para \u001b[38;5;241m=\u001b[39m tree\u001b[38;5;241m.\u001b[39mxpath(\u001b[38;5;124m'\u001b[39m\u001b[38;5;124m//div[@class=\u001b[39m\u001b[38;5;124m\"\u001b[39m\u001b[38;5;124mpx-1.5\u001b[39m\u001b[38;5;124m\"\u001b[39m\u001b[38;5;124m]\u001b[39m\u001b[38;5;124m'\u001b[39m)[\u001b[38;5;241m0\u001b[39m]\n",
      "File \u001b[1;32mE:\\anaconda\\Lib\\site-packages\\lxml\\html\\__init__.py:850\u001b[0m, in \u001b[0;36mfromstring\u001b[1;34m(html, base_url, parser, **kw)\u001b[0m\n\u001b[0;32m    848\u001b[0m \u001b[38;5;28;01melse\u001b[39;00m:\n\u001b[0;32m    849\u001b[0m     is_full_html \u001b[38;5;241m=\u001b[39m _looks_like_full_html_unicode(html)\n\u001b[1;32m--> 850\u001b[0m doc \u001b[38;5;241m=\u001b[39m document_fromstring(html, parser\u001b[38;5;241m=\u001b[39mparser, base_url\u001b[38;5;241m=\u001b[39mbase_url, \u001b[38;5;241m*\u001b[39m\u001b[38;5;241m*\u001b[39mkw)\n\u001b[0;32m    851\u001b[0m \u001b[38;5;28;01mif\u001b[39;00m is_full_html:\n\u001b[0;32m    852\u001b[0m     \u001b[38;5;28;01mreturn\u001b[39;00m doc\n",
      "File \u001b[1;32mE:\\anaconda\\Lib\\site-packages\\lxml\\html\\__init__.py:738\u001b[0m, in \u001b[0;36mdocument_fromstring\u001b[1;34m(html, parser, ensure_head_body, **kw)\u001b[0m\n\u001b[0;32m    736\u001b[0m value \u001b[38;5;241m=\u001b[39m etree\u001b[38;5;241m.\u001b[39mfromstring(html, parser, \u001b[38;5;241m*\u001b[39m\u001b[38;5;241m*\u001b[39mkw)\n\u001b[0;32m    737\u001b[0m \u001b[38;5;28;01mif\u001b[39;00m value \u001b[38;5;129;01mis\u001b[39;00m \u001b[38;5;28;01mNone\u001b[39;00m:\n\u001b[1;32m--> 738\u001b[0m     \u001b[38;5;28;01mraise\u001b[39;00m etree\u001b[38;5;241m.\u001b[39mParserError(\n\u001b[0;32m    739\u001b[0m         \u001b[38;5;124m\"\u001b[39m\u001b[38;5;124mDocument is empty\u001b[39m\u001b[38;5;124m\"\u001b[39m)\n\u001b[0;32m    740\u001b[0m \u001b[38;5;28;01mif\u001b[39;00m ensure_head_body \u001b[38;5;129;01mand\u001b[39;00m value\u001b[38;5;241m.\u001b[39mfind(\u001b[38;5;124m'\u001b[39m\u001b[38;5;124mhead\u001b[39m\u001b[38;5;124m'\u001b[39m) \u001b[38;5;129;01mis\u001b[39;00m \u001b[38;5;28;01mNone\u001b[39;00m:\n\u001b[0;32m    741\u001b[0m     value\u001b[38;5;241m.\u001b[39minsert(\u001b[38;5;241m0\u001b[39m, Element(\u001b[38;5;124m'\u001b[39m\u001b[38;5;124mhead\u001b[39m\u001b[38;5;124m'\u001b[39m))\n",
      "\u001b[1;31mParserError\u001b[0m: Document is empty"
     ]
    }
   ],
   "source": [
    "from lxml import html\n",
    "import re\n",
    "\n",
    "def get_model_para(model: str, cached=True):\n",
    "    '''given a model name, return the model size in billion.\n",
    "    >>> print(get_model_para('CohereForAI/c4ai-command-r7b-12-2024'))\n",
    "    8.03\n",
    "    '''\n",
    "    author, model_name = model.split('/')\n",
    "    cache_path = f'cache/{author}-{model_name}.html'\n",
    "    \n",
    "    if os.path.exists(cache_path) and cached:\n",
    "        with open(cache_path, 'r') as f:\n",
    "            raw_html = f.read()\n",
    "    else:\n",
    "        base_url = 'https://huggingface.co/'\n",
    "        resp = requests.get(base_url + model)\n",
    "        raw_html = resp.content.decode('utf-8')\n",
    "        \n",
    "        if cached:\n",
    "            with open(cache_path, 'w') as f:\n",
    "                f.write(raw_html)\n",
    "    \n",
    "    tree = html.fromstring(raw_html)\n",
    "    try:\n",
    "        para = tree.xpath('//div[@class=\"px-1.5\"]')[0]\n",
    "        model_size = re.findall(r'(\\d+\\.\\d+)B params', para.text)[0]\n",
    "        model_size = round(float(model_size))\n",
    "    except:\n",
    "        # no model size found at tag\n",
    "        model_size = None\n",
    "    return model_size\n",
    "\n",
    "\n",
    "# example usage\n",
    "print(get_model_para('CohereForAI/c4ai-command-r7b-12-2024'))"
   ]
  },
  {
   "cell_type": "markdown",
   "metadata": {},
   "source": [
    "## Sqlite ORM\n",
    "\n",
    "定义数据模型，将数据模型映射到数据库表中，数据存储在本地数据库 SQlite 中"
   ]
  },
  {
   "cell_type": "code",
   "execution_count": 7,
   "metadata": {},
   "outputs": [],
   "source": [
    "import datetime\n",
    "\n",
    "from sqlalchemy import Integer, String, DateTime, ForeignKey\n",
    "from sqlalchemy.orm import DeclarativeBase\n",
    "from sqlalchemy.orm import Mapped, mapped_column, relationship\n",
    "\n",
    "class Base(DeclarativeBase):\n",
    "    pass\n",
    "\n",
    "\n",
    "class Author(Base):\n",
    "    __tablename__ = 'Author'\n",
    "    \n",
    "    id: Mapped[int] = mapped_column(primary_key=True)\n",
    "    name: Mapped[str] = mapped_column(String(40), unique=True)\n",
    "    type: Mapped[str] = mapped_column(String(40))\n",
    "    isEnterprise: Mapped[bool] = mapped_column(Integer)\n",
    "    \n",
    "    models: Mapped[List[\"Model\"]] = relationship(\n",
    "        \"Model\", back_populates=\"author\", cascade=\"all, delete-orphan\"\n",
    "    )\n",
    "    \n",
    "    def __repr__(self):\n",
    "        return f\"<{self.name}>\"\n",
    "    \n",
    "    def to_dict(self):\n",
    "        return {\n",
    "            \"id\": self.id,\n",
    "            \"name\": self.name,\n",
    "            \"type\": self.type,\n",
    "            \"isEnterprise\": self.isEnterprise,\n",
    "        }\n",
    "\n",
    "\n",
    "class Model(Base):\n",
    "    __tablename__ = 'Model'\n",
    "    \n",
    "    id: Mapped[int] = mapped_column(primary_key=True)\n",
    "    name: Mapped[str] = mapped_column(String(40), unique=True)\n",
    "    lastModified: Mapped[datetime.datetime] = mapped_column(DateTime)\n",
    "    downloads: Mapped[int] = mapped_column(Integer)\n",
    "    likes: Mapped[int] = mapped_column(Integer)\n",
    "    \n",
    "    author_id: Mapped[int] = mapped_column(Integer, ForeignKey('Author.id'))\n",
    "    author: Mapped[Author] = relationship(\"Author\", back_populates=\"models\")\n",
    "    \n",
    "    def __repr__(self):\n",
    "        return f\"<{self.name}>\"\n",
    "    \n",
    "    def to_dict(self):\n",
    "        return {\n",
    "            \"id\": self.id,\n",
    "            \"name\": self.name,\n",
    "            \"lastModified\": self.lastModified,\n",
    "            \"downloads\": self.downloads,\n",
    "            \"likes\": self.likes,\n",
    "            \"author_id\": self.author_id,\n",
    "        }"
   ]
  },
  {
   "cell_type": "markdown",
   "metadata": {},
   "source": [
    "模型序列化器：给一个 dict，返回一个对象"
   ]
  },
  {
   "cell_type": "code",
   "execution_count": 10,
   "metadata": {},
   "outputs": [],
   "source": [
    "def author_seralizer(author_data) -> Author:\n",
    "    # print(author_data)\n",
    "    author = Author(\n",
    "        name=author_data['name'],\n",
    "        type=author_data['type'],\n",
    "        isEnterprise=author_data.get('isEnterprise', False),\n",
    "    )\n",
    "    return author\n",
    "\n",
    "def model_serializer(model_data) -> Model:\n",
    "    model = Model(\n",
    "        name=model_data['id'],\n",
    "        lastModified=datetime.datetime.strptime(model_data['lastModified'], '%Y-%m-%dT%H:%M:%S.%fZ'),\n",
    "        downloads=model_data['downloads'],\n",
    "        likes=model_data['likes'],\n",
    "        author=author_seralizer(model_data['authorData']),\n",
    "    )\n",
    "    return model"
   ]
  },
  {
   "cell_type": "markdown",
   "metadata": {},
   "source": [
    "## 数据库操纵"
   ]
  },
  {
   "cell_type": "markdown",
   "metadata": {},
   "source": [
    "### 创建数据库"
   ]
  },
  {
   "cell_type": "code",
   "execution_count": 14,
   "metadata": {},
   "outputs": [],
   "source": [
    "from sqlalchemy import create_engine\n",
    "engine = create_engine('sqlite:///data.db', echo=False)\n",
    "# If no migration\n",
    "Base.metadata.drop_all(engine)\n",
    "Base.metadata.create_all(engine)"
   ]
  },
  {
   "cell_type": "markdown",
   "metadata": {},
   "source": [
    "### 爬取与存放数据"
   ]
  },
  {
   "cell_type": "code",
   "execution_count": 17,
   "metadata": {},
   "outputs": [],
   "source": [
    "from sqlalchemy.orm import Session\n",
    "\n",
    "mx_page = 99\n",
    "with Session(engine) as session:\n",
    "    for page in range(0, mx_page + 1):\n",
    "        models = get_single_page_models(page)\n",
    "        for model in models:\n",
    "            model_obj = model_serializer(model)\n",
    "            # 如果作者已存在，则使用已存在的作者对象，否则重复创建会导致唯一约束冲突\n",
    "            existing_author = session.query(Author).filter_by(name=model_obj.author.name).first()\n",
    "            if existing_author:\n",
    "                model_obj.author = existing_author\n",
    "            session.add(model_obj)\n",
    "        \n",
    "    session.commit()"
   ]
  },
  {
   "cell_type": "markdown",
   "metadata": {},
   "source": [
    "## 转换为 Dataframe"
   ]
  },
  {
   "cell_type": "code",
   "execution_count": 19,
   "metadata": {},
   "outputs": [
    {
     "data": {
      "text/html": [
       "<div>\n",
       "<style scoped>\n",
       "    .dataframe tbody tr th:only-of-type {\n",
       "        vertical-align: middle;\n",
       "    }\n",
       "\n",
       "    .dataframe tbody tr th {\n",
       "        vertical-align: top;\n",
       "    }\n",
       "\n",
       "    .dataframe thead th {\n",
       "        text-align: right;\n",
       "    }\n",
       "</style>\n",
       "<table border=\"1\" class=\"dataframe\">\n",
       "  <thead>\n",
       "    <tr style=\"text-align: right;\">\n",
       "      <th></th>\n",
       "      <th>id</th>\n",
       "      <th>name</th>\n",
       "      <th>lastModified</th>\n",
       "      <th>downloads</th>\n",
       "      <th>likes</th>\n",
       "      <th>author_id</th>\n",
       "    </tr>\n",
       "  </thead>\n",
       "  <tbody>\n",
       "    <tr>\n",
       "      <th>0</th>\n",
       "      <td>1</td>\n",
       "      <td>meta-llama/Meta-Llama-3-8B</td>\n",
       "      <td>2024-09-27 15:52:33</td>\n",
       "      <td>621675</td>\n",
       "      <td>5916</td>\n",
       "      <td>1</td>\n",
       "    </tr>\n",
       "    <tr>\n",
       "      <th>1</th>\n",
       "      <td>2</td>\n",
       "      <td>bigscience/bloom</td>\n",
       "      <td>2023-07-28 17:50:20</td>\n",
       "      <td>14616</td>\n",
       "      <td>4796</td>\n",
       "      <td>2</td>\n",
       "    </tr>\n",
       "    <tr>\n",
       "      <th>2</th>\n",
       "      <td>3</td>\n",
       "      <td>mistralai/Mixtral-8x7B-Instruct-v0.1</td>\n",
       "      <td>2024-08-19 13:18:42</td>\n",
       "      <td>1966899</td>\n",
       "      <td>4227</td>\n",
       "      <td>3</td>\n",
       "    </tr>\n",
       "    <tr>\n",
       "      <th>3</th>\n",
       "      <td>4</td>\n",
       "      <td>meta-llama/Llama-2-7b</td>\n",
       "      <td>2024-04-17 08:12:44</td>\n",
       "      <td>0</td>\n",
       "      <td>4189</td>\n",
       "      <td>1</td>\n",
       "    </tr>\n",
       "    <tr>\n",
       "      <th>4</th>\n",
       "      <td>5</td>\n",
       "      <td>meta-llama/Llama-2-7b-chat-hf</td>\n",
       "      <td>2024-04-17 08:40:48</td>\n",
       "      <td>1054649</td>\n",
       "      <td>4074</td>\n",
       "      <td>1</td>\n",
       "    </tr>\n",
       "  </tbody>\n",
       "</table>\n",
       "</div>"
      ],
      "text/plain": [
       "   id                                  name        lastModified  downloads  \\\n",
       "0   1            meta-llama/Meta-Llama-3-8B 2024-09-27 15:52:33     621675   \n",
       "1   2                      bigscience/bloom 2023-07-28 17:50:20      14616   \n",
       "2   3  mistralai/Mixtral-8x7B-Instruct-v0.1 2024-08-19 13:18:42    1966899   \n",
       "3   4                 meta-llama/Llama-2-7b 2024-04-17 08:12:44          0   \n",
       "4   5         meta-llama/Llama-2-7b-chat-hf 2024-04-17 08:40:48    1054649   \n",
       "\n",
       "   likes  author_id  \n",
       "0   5916          1  \n",
       "1   4796          2  \n",
       "2   4227          3  \n",
       "3   4189          1  \n",
       "4   4074          1  "
      ]
     },
     "execution_count": 19,
     "metadata": {},
     "output_type": "execute_result"
    }
   ],
   "source": [
    "import pandas as pd\n",
    "\n",
    "models = pd.read_sql_table('Model', 'sqlite:///data.db')\n",
    "models.head()"
   ]
  },
  {
   "cell_type": "code",
   "execution_count": 20,
   "metadata": {},
   "outputs": [
    {
     "data": {
      "text/html": [
       "<div>\n",
       "<style scoped>\n",
       "    .dataframe tbody tr th:only-of-type {\n",
       "        vertical-align: middle;\n",
       "    }\n",
       "\n",
       "    .dataframe tbody tr th {\n",
       "        vertical-align: top;\n",
       "    }\n",
       "\n",
       "    .dataframe thead th {\n",
       "        text-align: right;\n",
       "    }\n",
       "</style>\n",
       "<table border=\"1\" class=\"dataframe\">\n",
       "  <thead>\n",
       "    <tr style=\"text-align: right;\">\n",
       "      <th></th>\n",
       "      <th>id</th>\n",
       "      <th>name</th>\n",
       "      <th>type</th>\n",
       "      <th>isEnterprise</th>\n",
       "    </tr>\n",
       "  </thead>\n",
       "  <tbody>\n",
       "    <tr>\n",
       "      <th>0</th>\n",
       "      <td>1</td>\n",
       "      <td>meta-llama</td>\n",
       "      <td>org</td>\n",
       "      <td>1</td>\n",
       "    </tr>\n",
       "    <tr>\n",
       "      <th>1</th>\n",
       "      <td>2</td>\n",
       "      <td>bigscience</td>\n",
       "      <td>org</td>\n",
       "      <td>0</td>\n",
       "    </tr>\n",
       "    <tr>\n",
       "      <th>2</th>\n",
       "      <td>3</td>\n",
       "      <td>mistralai</td>\n",
       "      <td>org</td>\n",
       "      <td>1</td>\n",
       "    </tr>\n",
       "    <tr>\n",
       "      <th>3</th>\n",
       "      <td>4</td>\n",
       "      <td>microsoft</td>\n",
       "      <td>org</td>\n",
       "      <td>0</td>\n",
       "    </tr>\n",
       "    <tr>\n",
       "      <th>4</th>\n",
       "      <td>5</td>\n",
       "      <td>google</td>\n",
       "      <td>org</td>\n",
       "      <td>0</td>\n",
       "    </tr>\n",
       "  </tbody>\n",
       "</table>\n",
       "</div>"
      ],
      "text/plain": [
       "   id        name type  isEnterprise\n",
       "0   1  meta-llama  org             1\n",
       "1   2  bigscience  org             0\n",
       "2   3   mistralai  org             1\n",
       "3   4   microsoft  org             0\n",
       "4   5      google  org             0"
      ]
     },
     "execution_count": 20,
     "metadata": {},
     "output_type": "execute_result"
    }
   ],
   "source": [
    "authors = pd.read_sql_table('Author', 'sqlite:///data.db')\n",
    "authors.head()"
   ]
  },
  {
   "cell_type": "code",
   "execution_count": 21,
   "metadata": {},
   "outputs": [
    {
     "data": {
      "text/html": [
       "<div>\n",
       "<style scoped>\n",
       "    .dataframe tbody tr th:only-of-type {\n",
       "        vertical-align: middle;\n",
       "    }\n",
       "\n",
       "    .dataframe tbody tr th {\n",
       "        vertical-align: top;\n",
       "    }\n",
       "\n",
       "    .dataframe thead th {\n",
       "        text-align: right;\n",
       "    }\n",
       "</style>\n",
       "<table border=\"1\" class=\"dataframe\">\n",
       "  <thead>\n",
       "    <tr style=\"text-align: right;\">\n",
       "      <th></th>\n",
       "      <th>id</th>\n",
       "      <th>lastModified</th>\n",
       "      <th>downloads</th>\n",
       "      <th>likes</th>\n",
       "      <th>author_id</th>\n",
       "    </tr>\n",
       "  </thead>\n",
       "  <tbody>\n",
       "    <tr>\n",
       "      <th>count</th>\n",
       "      <td>3000.000000</td>\n",
       "      <td>3000</td>\n",
       "      <td>3.000000e+03</td>\n",
       "      <td>3000.000000</td>\n",
       "      <td>3000.000000</td>\n",
       "    </tr>\n",
       "    <tr>\n",
       "      <th>mean</th>\n",
       "      <td>1500.500000</td>\n",
       "      <td>2024-02-23 06:01:02.547000064</td>\n",
       "      <td>5.343011e+04</td>\n",
       "      <td>119.395667</td>\n",
       "      <td>201.052333</td>\n",
       "    </tr>\n",
       "    <tr>\n",
       "      <th>min</th>\n",
       "      <td>1.000000</td>\n",
       "      <td>2021-03-03 01:44:59</td>\n",
       "      <td>0.000000e+00</td>\n",
       "      <td>19.000000</td>\n",
       "      <td>1.000000</td>\n",
       "    </tr>\n",
       "    <tr>\n",
       "      <th>25%</th>\n",
       "      <td>750.750000</td>\n",
       "      <td>2023-10-02 23:15:24</td>\n",
       "      <td>2.310000e+02</td>\n",
       "      <td>27.000000</td>\n",
       "      <td>25.000000</td>\n",
       "    </tr>\n",
       "    <tr>\n",
       "      <th>50%</th>\n",
       "      <td>1500.500000</td>\n",
       "      <td>2024-03-16 01:28:38.500000</td>\n",
       "      <td>1.325000e+03</td>\n",
       "      <td>43.000000</td>\n",
       "      <td>119.000000</td>\n",
       "    </tr>\n",
       "    <tr>\n",
       "      <th>75%</th>\n",
       "      <td>2250.250000</td>\n",
       "      <td>2024-07-29 09:05:29.249999872</td>\n",
       "      <td>5.638000e+03</td>\n",
       "      <td>92.250000</td>\n",
       "      <td>312.250000</td>\n",
       "    </tr>\n",
       "    <tr>\n",
       "      <th>max</th>\n",
       "      <td>3000.000000</td>\n",
       "      <td>2024-12-16 06:28:17</td>\n",
       "      <td>1.220233e+07</td>\n",
       "      <td>5916.000000</td>\n",
       "      <td>788.000000</td>\n",
       "    </tr>\n",
       "    <tr>\n",
       "      <th>std</th>\n",
       "      <td>866.169729</td>\n",
       "      <td>NaN</td>\n",
       "      <td>4.568222e+05</td>\n",
       "      <td>310.613872</td>\n",
       "      <td>207.443234</td>\n",
       "    </tr>\n",
       "  </tbody>\n",
       "</table>\n",
       "</div>"
      ],
      "text/plain": [
       "                id                   lastModified     downloads        likes  \\\n",
       "count  3000.000000                           3000  3.000000e+03  3000.000000   \n",
       "mean   1500.500000  2024-02-23 06:01:02.547000064  5.343011e+04   119.395667   \n",
       "min       1.000000            2021-03-03 01:44:59  0.000000e+00    19.000000   \n",
       "25%     750.750000            2023-10-02 23:15:24  2.310000e+02    27.000000   \n",
       "50%    1500.500000     2024-03-16 01:28:38.500000  1.325000e+03    43.000000   \n",
       "75%    2250.250000  2024-07-29 09:05:29.249999872  5.638000e+03    92.250000   \n",
       "max    3000.000000            2024-12-16 06:28:17  1.220233e+07  5916.000000   \n",
       "std     866.169729                            NaN  4.568222e+05   310.613872   \n",
       "\n",
       "         author_id  \n",
       "count  3000.000000  \n",
       "mean    201.052333  \n",
       "min       1.000000  \n",
       "25%      25.000000  \n",
       "50%     119.000000  \n",
       "75%     312.250000  \n",
       "max     788.000000  \n",
       "std     207.443234  "
      ]
     },
     "execution_count": 21,
     "metadata": {},
     "output_type": "execute_result"
    }
   ],
   "source": [
    "models.describe()"
   ]
  },
  {
   "cell_type": "code",
   "execution_count": 22,
   "metadata": {},
   "outputs": [
    {
     "data": {
      "text/html": [
       "<div>\n",
       "<style scoped>\n",
       "    .dataframe tbody tr th:only-of-type {\n",
       "        vertical-align: middle;\n",
       "    }\n",
       "\n",
       "    .dataframe tbody tr th {\n",
       "        vertical-align: top;\n",
       "    }\n",
       "\n",
       "    .dataframe thead th {\n",
       "        text-align: right;\n",
       "    }\n",
       "</style>\n",
       "<table border=\"1\" class=\"dataframe\">\n",
       "  <thead>\n",
       "    <tr style=\"text-align: right;\">\n",
       "      <th></th>\n",
       "      <th>id</th>\n",
       "      <th>isEnterprise</th>\n",
       "    </tr>\n",
       "  </thead>\n",
       "  <tbody>\n",
       "    <tr>\n",
       "      <th>count</th>\n",
       "      <td>788.000000</td>\n",
       "      <td>788.000000</td>\n",
       "    </tr>\n",
       "    <tr>\n",
       "      <th>mean</th>\n",
       "      <td>394.500000</td>\n",
       "      <td>0.048223</td>\n",
       "    </tr>\n",
       "    <tr>\n",
       "      <th>std</th>\n",
       "      <td>227.620298</td>\n",
       "      <td>0.214374</td>\n",
       "    </tr>\n",
       "    <tr>\n",
       "      <th>min</th>\n",
       "      <td>1.000000</td>\n",
       "      <td>0.000000</td>\n",
       "    </tr>\n",
       "    <tr>\n",
       "      <th>25%</th>\n",
       "      <td>197.750000</td>\n",
       "      <td>0.000000</td>\n",
       "    </tr>\n",
       "    <tr>\n",
       "      <th>50%</th>\n",
       "      <td>394.500000</td>\n",
       "      <td>0.000000</td>\n",
       "    </tr>\n",
       "    <tr>\n",
       "      <th>75%</th>\n",
       "      <td>591.250000</td>\n",
       "      <td>0.000000</td>\n",
       "    </tr>\n",
       "    <tr>\n",
       "      <th>max</th>\n",
       "      <td>788.000000</td>\n",
       "      <td>1.000000</td>\n",
       "    </tr>\n",
       "  </tbody>\n",
       "</table>\n",
       "</div>"
      ],
      "text/plain": [
       "               id  isEnterprise\n",
       "count  788.000000    788.000000\n",
       "mean   394.500000      0.048223\n",
       "std    227.620298      0.214374\n",
       "min      1.000000      0.000000\n",
       "25%    197.750000      0.000000\n",
       "50%    394.500000      0.000000\n",
       "75%    591.250000      0.000000\n",
       "max    788.000000      1.000000"
      ]
     },
     "execution_count": 22,
     "metadata": {},
     "output_type": "execute_result"
    }
   ],
   "source": [
    "authors.describe()"
   ]
  },
  {
   "cell_type": "markdown",
   "metadata": {},
   "source": [
    "# 数据预处理"
   ]
  },
  {
   "cell_type": "markdown",
   "metadata": {},
   "source": [
    "## 模型参数"
   ]
  },
  {
   "cell_type": "code",
   "execution_count": 26,
   "metadata": {},
   "outputs": [],
   "source": [
    "def extract_model_size(model_name):\n",
    "    pattern = r'(\\d+(?:x\\d+)?[Bb])'\n",
    "    match = re.search(pattern, model_name)\n",
    "    return match.group(1) if match else None"
   ]
  },
  {
   "cell_type": "markdown",
   "metadata": {},
   "source": [
    "探索: regex 的可行性?"
   ]
  },
  {
   "cell_type": "code",
   "execution_count": 33,
   "metadata": {},
   "outputs": [
    {
     "data": {
      "text/html": [
       "<div>\n",
       "<style scoped>\n",
       "    .dataframe tbody tr th:only-of-type {\n",
       "        vertical-align: middle;\n",
       "    }\n",
       "\n",
       "    .dataframe tbody tr th {\n",
       "        vertical-align: top;\n",
       "    }\n",
       "\n",
       "    .dataframe thead th {\n",
       "        text-align: right;\n",
       "    }\n",
       "</style>\n",
       "<table border=\"1\" class=\"dataframe\">\n",
       "  <thead>\n",
       "    <tr style=\"text-align: right;\">\n",
       "      <th></th>\n",
       "      <th>id</th>\n",
       "      <th>name</th>\n",
       "      <th>lastModified</th>\n",
       "      <th>downloads</th>\n",
       "      <th>likes</th>\n",
       "      <th>author_id</th>\n",
       "      <th>model_size</th>\n",
       "    </tr>\n",
       "  </thead>\n",
       "  <tbody>\n",
       "    <tr>\n",
       "      <th>0</th>\n",
       "      <td>1</td>\n",
       "      <td>meta-llama/Meta-Llama-3-8B</td>\n",
       "      <td>2024-09-27 15:52:33</td>\n",
       "      <td>621675</td>\n",
       "      <td>5916</td>\n",
       "      <td>1</td>\n",
       "      <td>8B</td>\n",
       "    </tr>\n",
       "    <tr>\n",
       "      <th>1</th>\n",
       "      <td>2</td>\n",
       "      <td>bigscience/bloom</td>\n",
       "      <td>2023-07-28 17:50:20</td>\n",
       "      <td>14616</td>\n",
       "      <td>4796</td>\n",
       "      <td>2</td>\n",
       "      <td>None</td>\n",
       "    </tr>\n",
       "    <tr>\n",
       "      <th>2</th>\n",
       "      <td>3</td>\n",
       "      <td>mistralai/Mixtral-8x7B-Instruct-v0.1</td>\n",
       "      <td>2024-08-19 13:18:42</td>\n",
       "      <td>1966899</td>\n",
       "      <td>4227</td>\n",
       "      <td>3</td>\n",
       "      <td>8x7B</td>\n",
       "    </tr>\n",
       "    <tr>\n",
       "      <th>3</th>\n",
       "      <td>4</td>\n",
       "      <td>meta-llama/Llama-2-7b</td>\n",
       "      <td>2024-04-17 08:12:44</td>\n",
       "      <td>0</td>\n",
       "      <td>4189</td>\n",
       "      <td>1</td>\n",
       "      <td>7b</td>\n",
       "    </tr>\n",
       "    <tr>\n",
       "      <th>4</th>\n",
       "      <td>5</td>\n",
       "      <td>meta-llama/Llama-2-7b-chat-hf</td>\n",
       "      <td>2024-04-17 08:40:48</td>\n",
       "      <td>1054649</td>\n",
       "      <td>4074</td>\n",
       "      <td>1</td>\n",
       "      <td>7b</td>\n",
       "    </tr>\n",
       "  </tbody>\n",
       "</table>\n",
       "</div>"
      ],
      "text/plain": [
       "   id                                  name        lastModified  downloads  \\\n",
       "0   1            meta-llama/Meta-Llama-3-8B 2024-09-27 15:52:33     621675   \n",
       "1   2                      bigscience/bloom 2023-07-28 17:50:20      14616   \n",
       "2   3  mistralai/Mixtral-8x7B-Instruct-v0.1 2024-08-19 13:18:42    1966899   \n",
       "3   4                 meta-llama/Llama-2-7b 2024-04-17 08:12:44          0   \n",
       "4   5         meta-llama/Llama-2-7b-chat-hf 2024-04-17 08:40:48    1054649   \n",
       "\n",
       "   likes  author_id model_size  \n",
       "0   5916          1         8B  \n",
       "1   4796          2       None  \n",
       "2   4227          3       8x7B  \n",
       "3   4189          1         7b  \n",
       "4   4074          1         7b  "
      ]
     },
     "execution_count": 33,
     "metadata": {},
     "output_type": "execute_result"
    }
   ],
   "source": [
    "models.loc[:, 'model_size'] = models['name'].apply(\n",
    "    extract_model_size)\n",
    "models.head()"
   ]
  },
  {
   "cell_type": "code",
   "execution_count": 35,
   "metadata": {},
   "outputs": [
    {
     "data": {
      "text/plain": [
       "id                0\n",
       "name              0\n",
       "lastModified      0\n",
       "downloads         0\n",
       "likes             0\n",
       "author_id         0\n",
       "model_size      563\n",
       "dtype: int64"
      ]
     },
     "execution_count": 35,
     "metadata": {},
     "output_type": "execute_result"
    }
   ],
   "source": [
    "models.isna().sum()"
   ]
  },
  {
   "cell_type": "code",
   "execution_count": 37,
   "metadata": {},
   "outputs": [
    {
     "name": "stdout",
     "output_type": "stream",
     "text": [
      "128\n",
      "127\n",
      "None\n"
     ]
    }
   ],
   "source": [
    "def to_int(model_size):\n",
    "    pattern = r'(\\d+)[Bb]'\n",
    "    if model_size:\n",
    "        if type(model_size) == int:\n",
    "            return model_size\n",
    "        match = re.search(pattern, model_size)\n",
    "        if match:\n",
    "            return int(match.group(1))\n",
    "        else:\n",
    "            return None\n",
    "    return None\n",
    "\n",
    "print(to_int('0x128b'))\n",
    "print(to_int(127))\n",
    "print(to_int(None))"
   ]
  },
  {
   "cell_type": "code",
   "execution_count": 39,
   "metadata": {},
   "outputs": [],
   "source": [
    "models.loc[:, 'model_size'] = models['model_size'].apply(to_int)"
   ]
  },
  {
   "cell_type": "markdown",
   "metadata": {},
   "source": [
    "## 缺省值处理"
   ]
  },
  {
   "cell_type": "code",
   "execution_count": 42,
   "metadata": {},
   "outputs": [
    {
     "ename": "UnicodeEncodeError",
     "evalue": "'gbk' codec can't encode character '\\xf1' in position 16884: illegal multibyte sequence",
     "output_type": "error",
     "traceback": [
      "\u001b[1;31m---------------------------------------------------------------------------\u001b[0m",
      "\u001b[1;31mUnicodeEncodeError\u001b[0m                        Traceback (most recent call last)",
      "Cell \u001b[1;32mIn[42], line 1\u001b[0m\n\u001b[1;32m----> 1\u001b[0m models[\u001b[38;5;124m'\u001b[39m\u001b[38;5;124mmodel_size\u001b[39m\u001b[38;5;124m'\u001b[39m] \u001b[38;5;241m=\u001b[39m models\u001b[38;5;241m.\u001b[39mapply(\u001b[38;5;28;01mlambda\u001b[39;00m row: get_model_para(row[\u001b[38;5;124m'\u001b[39m\u001b[38;5;124mname\u001b[39m\u001b[38;5;124m'\u001b[39m]) \u001b[38;5;28;01mif\u001b[39;00m pd\u001b[38;5;241m.\u001b[39misna(row[\u001b[38;5;124m'\u001b[39m\u001b[38;5;124mmodel_size\u001b[39m\u001b[38;5;124m'\u001b[39m]) \u001b[38;5;28;01melse\u001b[39;00m row[\u001b[38;5;124m'\u001b[39m\u001b[38;5;124mmodel_size\u001b[39m\u001b[38;5;124m'\u001b[39m], axis\u001b[38;5;241m=\u001b[39m\u001b[38;5;241m1\u001b[39m)\n",
      "File \u001b[1;32mE:\\anaconda\\Lib\\site-packages\\pandas\\core\\frame.py:10374\u001b[0m, in \u001b[0;36mDataFrame.apply\u001b[1;34m(self, func, axis, raw, result_type, args, by_row, engine, engine_kwargs, **kwargs)\u001b[0m\n\u001b[0;32m  10360\u001b[0m \u001b[38;5;28;01mfrom\u001b[39;00m \u001b[38;5;21;01mpandas\u001b[39;00m\u001b[38;5;21;01m.\u001b[39;00m\u001b[38;5;21;01mcore\u001b[39;00m\u001b[38;5;21;01m.\u001b[39;00m\u001b[38;5;21;01mapply\u001b[39;00m \u001b[38;5;28;01mimport\u001b[39;00m frame_apply\n\u001b[0;32m  10362\u001b[0m op \u001b[38;5;241m=\u001b[39m frame_apply(\n\u001b[0;32m  10363\u001b[0m     \u001b[38;5;28mself\u001b[39m,\n\u001b[0;32m  10364\u001b[0m     func\u001b[38;5;241m=\u001b[39mfunc,\n\u001b[1;32m   (...)\u001b[0m\n\u001b[0;32m  10372\u001b[0m     kwargs\u001b[38;5;241m=\u001b[39mkwargs,\n\u001b[0;32m  10373\u001b[0m )\n\u001b[1;32m> 10374\u001b[0m \u001b[38;5;28;01mreturn\u001b[39;00m op\u001b[38;5;241m.\u001b[39mapply()\u001b[38;5;241m.\u001b[39m__finalize__(\u001b[38;5;28mself\u001b[39m, method\u001b[38;5;241m=\u001b[39m\u001b[38;5;124m\"\u001b[39m\u001b[38;5;124mapply\u001b[39m\u001b[38;5;124m\"\u001b[39m)\n",
      "File \u001b[1;32mE:\\anaconda\\Lib\\site-packages\\pandas\\core\\apply.py:916\u001b[0m, in \u001b[0;36mFrameApply.apply\u001b[1;34m(self)\u001b[0m\n\u001b[0;32m    913\u001b[0m \u001b[38;5;28;01melif\u001b[39;00m \u001b[38;5;28mself\u001b[39m\u001b[38;5;241m.\u001b[39mraw:\n\u001b[0;32m    914\u001b[0m     \u001b[38;5;28;01mreturn\u001b[39;00m \u001b[38;5;28mself\u001b[39m\u001b[38;5;241m.\u001b[39mapply_raw(engine\u001b[38;5;241m=\u001b[39m\u001b[38;5;28mself\u001b[39m\u001b[38;5;241m.\u001b[39mengine, engine_kwargs\u001b[38;5;241m=\u001b[39m\u001b[38;5;28mself\u001b[39m\u001b[38;5;241m.\u001b[39mengine_kwargs)\n\u001b[1;32m--> 916\u001b[0m \u001b[38;5;28;01mreturn\u001b[39;00m \u001b[38;5;28mself\u001b[39m\u001b[38;5;241m.\u001b[39mapply_standard()\n",
      "File \u001b[1;32mE:\\anaconda\\Lib\\site-packages\\pandas\\core\\apply.py:1063\u001b[0m, in \u001b[0;36mFrameApply.apply_standard\u001b[1;34m(self)\u001b[0m\n\u001b[0;32m   1061\u001b[0m \u001b[38;5;28;01mdef\u001b[39;00m \u001b[38;5;21mapply_standard\u001b[39m(\u001b[38;5;28mself\u001b[39m):\n\u001b[0;32m   1062\u001b[0m     \u001b[38;5;28;01mif\u001b[39;00m \u001b[38;5;28mself\u001b[39m\u001b[38;5;241m.\u001b[39mengine \u001b[38;5;241m==\u001b[39m \u001b[38;5;124m\"\u001b[39m\u001b[38;5;124mpython\u001b[39m\u001b[38;5;124m\"\u001b[39m:\n\u001b[1;32m-> 1063\u001b[0m         results, res_index \u001b[38;5;241m=\u001b[39m \u001b[38;5;28mself\u001b[39m\u001b[38;5;241m.\u001b[39mapply_series_generator()\n\u001b[0;32m   1064\u001b[0m     \u001b[38;5;28;01melse\u001b[39;00m:\n\u001b[0;32m   1065\u001b[0m         results, res_index \u001b[38;5;241m=\u001b[39m \u001b[38;5;28mself\u001b[39m\u001b[38;5;241m.\u001b[39mapply_series_numba()\n",
      "File \u001b[1;32mE:\\anaconda\\Lib\\site-packages\\pandas\\core\\apply.py:1081\u001b[0m, in \u001b[0;36mFrameApply.apply_series_generator\u001b[1;34m(self)\u001b[0m\n\u001b[0;32m   1078\u001b[0m \u001b[38;5;28;01mwith\u001b[39;00m option_context(\u001b[38;5;124m\"\u001b[39m\u001b[38;5;124mmode.chained_assignment\u001b[39m\u001b[38;5;124m\"\u001b[39m, \u001b[38;5;28;01mNone\u001b[39;00m):\n\u001b[0;32m   1079\u001b[0m     \u001b[38;5;28;01mfor\u001b[39;00m i, v \u001b[38;5;129;01min\u001b[39;00m \u001b[38;5;28menumerate\u001b[39m(series_gen):\n\u001b[0;32m   1080\u001b[0m         \u001b[38;5;66;03m# ignore SettingWithCopy here in case the user mutates\u001b[39;00m\n\u001b[1;32m-> 1081\u001b[0m         results[i] \u001b[38;5;241m=\u001b[39m \u001b[38;5;28mself\u001b[39m\u001b[38;5;241m.\u001b[39mfunc(v, \u001b[38;5;241m*\u001b[39m\u001b[38;5;28mself\u001b[39m\u001b[38;5;241m.\u001b[39margs, \u001b[38;5;241m*\u001b[39m\u001b[38;5;241m*\u001b[39m\u001b[38;5;28mself\u001b[39m\u001b[38;5;241m.\u001b[39mkwargs)\n\u001b[0;32m   1082\u001b[0m         \u001b[38;5;28;01mif\u001b[39;00m \u001b[38;5;28misinstance\u001b[39m(results[i], ABCSeries):\n\u001b[0;32m   1083\u001b[0m             \u001b[38;5;66;03m# If we have a view on v, we need to make a copy because\u001b[39;00m\n\u001b[0;32m   1084\u001b[0m             \u001b[38;5;66;03m#  series_generator will swap out the underlying data\u001b[39;00m\n\u001b[0;32m   1085\u001b[0m             results[i] \u001b[38;5;241m=\u001b[39m results[i]\u001b[38;5;241m.\u001b[39mcopy(deep\u001b[38;5;241m=\u001b[39m\u001b[38;5;28;01mFalse\u001b[39;00m)\n",
      "Cell \u001b[1;32mIn[42], line 1\u001b[0m, in \u001b[0;36m<lambda>\u001b[1;34m(row)\u001b[0m\n\u001b[1;32m----> 1\u001b[0m models[\u001b[38;5;124m'\u001b[39m\u001b[38;5;124mmodel_size\u001b[39m\u001b[38;5;124m'\u001b[39m] \u001b[38;5;241m=\u001b[39m models\u001b[38;5;241m.\u001b[39mapply(\u001b[38;5;28;01mlambda\u001b[39;00m row: get_model_para(row[\u001b[38;5;124m'\u001b[39m\u001b[38;5;124mname\u001b[39m\u001b[38;5;124m'\u001b[39m]) \u001b[38;5;28;01mif\u001b[39;00m pd\u001b[38;5;241m.\u001b[39misna(row[\u001b[38;5;124m'\u001b[39m\u001b[38;5;124mmodel_size\u001b[39m\u001b[38;5;124m'\u001b[39m]) \u001b[38;5;28;01melse\u001b[39;00m row[\u001b[38;5;124m'\u001b[39m\u001b[38;5;124mmodel_size\u001b[39m\u001b[38;5;124m'\u001b[39m], axis\u001b[38;5;241m=\u001b[39m\u001b[38;5;241m1\u001b[39m)\n",
      "Cell \u001b[1;32mIn[4], line 22\u001b[0m, in \u001b[0;36mget_model_para\u001b[1;34m(model, cached)\u001b[0m\n\u001b[0;32m     20\u001b[0m     \u001b[38;5;28;01mif\u001b[39;00m cached:\n\u001b[0;32m     21\u001b[0m         \u001b[38;5;28;01mwith\u001b[39;00m \u001b[38;5;28mopen\u001b[39m(cache_path, \u001b[38;5;124m'\u001b[39m\u001b[38;5;124mw\u001b[39m\u001b[38;5;124m'\u001b[39m) \u001b[38;5;28;01mas\u001b[39;00m f:\n\u001b[1;32m---> 22\u001b[0m             f\u001b[38;5;241m.\u001b[39mwrite(raw_html)\n\u001b[0;32m     24\u001b[0m tree \u001b[38;5;241m=\u001b[39m html\u001b[38;5;241m.\u001b[39mfromstring(raw_html)\n\u001b[0;32m     25\u001b[0m \u001b[38;5;28;01mtry\u001b[39;00m:\n",
      "\u001b[1;31mUnicodeEncodeError\u001b[0m: 'gbk' codec can't encode character '\\xf1' in position 16884: illegal multibyte sequence"
     ]
    }
   ],
   "source": [
    "models['model_size'] = models.apply(lambda row: get_model_para(row['name']) if pd.isna(row['model_size']) else row['model_size'], axis=1)"
   ]
  },
  {
   "cell_type": "code",
   "execution_count": null,
   "metadata": {},
   "outputs": [],
   "source": [
    "models.to_csv('models.csv', index=False)"
   ]
  },
  {
   "cell_type": "markdown",
   "metadata": {},
   "source": [
    "## 数据集分割\n",
    "\n",
    "一些分割数据集的工具函数"
   ]
  },
  {
   "cell_type": "code",
   "execution_count": null,
   "metadata": {},
   "outputs": [],
   "source": [
    "models = pd.read_csv('models.csv')"
   ]
  },
  {
   "cell_type": "code",
   "execution_count": null,
   "metadata": {},
   "outputs": [],
   "source": [
    "def split_qualified_models(models : pd.DataFrame, likes_threshold, download_threshold):\n",
    "    criteria = (models['downloads'] < download_threshold) | (models['likes'] < likes_threshold)\n",
    "    \n",
    "    low_quality_models = models[criteria]\n",
    "    high_quality_models = models[~criteria]\n",
    "    \n",
    "    return high_quality_models, low_quality_models\n",
    "\n",
    "\n",
    "def split_models_by_time(models : pd.DataFrame, time_threshold):\n",
    "    criteria = models['lastModified'] > time_threshold\n",
    "    \n",
    "    recent_models = models[criteria]\n",
    "    old_models = models[~criteria]\n",
    "    \n",
    "    return recent_models, old_models"
   ]
  },
  {
   "cell_type": "code",
   "execution_count": null,
   "metadata": {},
   "outputs": [],
   "source": [
    "likes_threshold = models.describe().loc['25%','likes']\n",
    "download_threshold = 10\n",
    "\n",
    "high_quality_models, low_quality_models = split_qualified_models(models, likes_threshold, download_threshold)\n",
    "high_quality_models.describe()"
   ]
  },
  {
   "cell_type": "code",
   "execution_count": null,
   "metadata": {},
   "outputs": [],
   "source": [
    "time_threshold = '2024-01-01 00:00:00'  # this year\n",
    "high_quality_models_24_after, high_quality_models_24_before = split_models_by_time(\n",
    "    high_quality_models, time_threshold)\n",
    "high_quality_models_24_after.describe()"
   ]
  },
  {
   "cell_type": "markdown",
   "metadata": {},
   "source": [
    "# 数据可视化"
   ]
  },
  {
   "cell_type": "markdown",
   "metadata": {},
   "source": [
    "## 模型参数量"
   ]
  },
  {
   "cell_type": "markdown",
   "metadata": {},
   "source": [
    "### 探究2024年开源社区最喜爱的模型参数量"
   ]
  },
  {
   "cell_type": "code",
   "execution_count": null,
   "metadata": {},
   "outputs": [],
   "source": [
    "def reset_index_from_one(models):\n",
    "    models = models.reset_index(drop=True)\n",
    "    models.index +=1\n",
    "    return models\n",
    "def top_features(models,feature,top_n=10):\n",
    "    top_models = models.nlargest(top_n,feature)\n",
    "    return top_models"
   ]
  },
  {
   "cell_type": "markdown",
   "metadata": {},
   "source": [
    "#### 2024年里下载量前十的模型"
   ]
  },
  {
   "cell_type": "code",
   "execution_count": null,
   "metadata": {},
   "outputs": [],
   "source": [
    "top_downloads_models = reset_index_from_one(top_features(high_quality_models_24_after,'downloads',10))\n",
    "top_downloads_models"
   ]
  },
  {
   "cell_type": "code",
   "execution_count": null,
   "metadata": {},
   "outputs": [],
   "source": [
    "import matplotlib.pyplot as plt\n",
    "import numpy as np\n",
    "def extract_model_size(model_size):\n",
    "    #将模型参数量转换为数值\n",
    "    if model_size is None:\n",
    "        return 0\n",
    "    match = re.search(r'(\\d+)', str(model_size))\n",
    "    return int(match.group(1)) if match else 0"
   ]
  },
  {
   "cell_type": "code",
   "execution_count": null,
   "metadata": {},
   "outputs": [],
   "source": [
    "top_downloads_models['model_size'] = top_downloads_models['model_size'].apply(extract_model_size)\n",
    "top_downloads_models_sorted = top_downloads_models.sort_values(by='downloads', ascending=True)\n",
    "colors = plt.cm.viridis(np.linspace(0, 1, len(top_downloads_models)))#让每个模型柱状颜色不同\n",
    "plt.figure(figsize=(12, 8))\n",
    "plt.barh(top_downloads_models_sorted['name'], top_downloads_models_sorted['model_size'], color=colors)\n",
    "plt.title('Top 10 Models by Model downloads')\n",
    "plt.xlabel('Model Size (B)')\n",
    "plt.ylabel('Model Name')\n",
    "plt.xlim(0, 10)\n",
    "#plt.xticks(rotation=45)\n",
    "plt.tight_layout()\n",
    "plt.show()"
   ]
  },
  {
   "cell_type": "code",
   "execution_count": null,
   "metadata": {},
   "outputs": [],
   "source": [
    "high_quality_models_24_before['model_size'] = high_quality_models_24_before['model_size'].apply(extract_model_size)\n",
    "high_quality_models_24_after['model_size'] = high_quality_models_24_after['model_size'].apply(extract_model_size)"
   ]
  },
  {
   "cell_type": "markdown",
   "metadata": {},
   "source": [
    "#### 2024年之前所有高质量NlP大模型参数量的分布"
   ]
  },
  {
   "cell_type": "code",
   "execution_count": null,
   "metadata": {},
   "outputs": [],
   "source": [
    "bins = [0, 1, 20, 40, 60,80,float('inf')]\n",
    "labels = ['<1B','1B-20B','20B-40B','40B-60B','60B-80B','>80B']\n",
    "size_distribution = pd.cut(high_quality_models_24_before['model_size'], bins=bins, labels=labels, right=False)\n",
    "\n",
    "# 绘制饼状图\n",
    "plt.figure(figsize=(8, 8))\n",
    "plt.pie(size_distribution.value_counts(), labels=labels, autopct='%1.1f%%', startangle=140, colors=plt.cm.Paired.colors)\n",
    "plt.title('before 2024 Distribution of Model Sizes')\n",
    "plt.show()"
   ]
  },
  {
   "cell_type": "markdown",
   "metadata": {},
   "source": [
    "#### 2024年所有高质量NlP大模型参数量的分布"
   ]
  },
  {
   "cell_type": "code",
   "execution_count": null,
   "metadata": {},
   "outputs": [],
   "source": [
    "bins = [0, 1, 20, 40, 60,80,float('inf')]\n",
    "labels = ['<1B','1B-20B','20B-40B','40B-60B','60B-80B','>80B']\n",
    "size_distribution = pd.cut(high_quality_models_24_after['model_size'], bins=bins, labels=labels, right=False)\n",
    "\n",
    "# 绘制饼状图\n",
    "plt.figure(figsize=(8, 8))\n",
    "plt.pie(size_distribution.value_counts(), labels=labels, autopct='%1.1f%%', startangle=140, colors=plt.cm.Paired.colors)\n",
    "plt.title('after 2024 Distribution of Model Sizes')\n",
    "plt.show()"
   ]
  },
  {
   "cell_type": "markdown",
   "metadata": {},
   "source": [
    "## 时间分布"
   ]
  },
  {
   "cell_type": "code",
   "execution_count": null,
   "metadata": {},
   "outputs": [],
   "source": []
  },
  {
   "cell_type": "markdown",
   "metadata": {},
   "source": [
    "## 作者类型"
   ]
  },
  {
   "cell_type": "code",
   "execution_count": null,
   "metadata": {},
   "outputs": [],
   "source": []
  }
 ],
 "metadata": {
  "kernelspec": {
   "display_name": "Python 3 (ipykernel)",
   "language": "python",
   "name": "python3"
  },
  "language_info": {
   "codemirror_mode": {
    "name": "ipython",
    "version": 3
   },
   "file_extension": ".py",
   "mimetype": "text/x-python",
   "name": "python",
   "nbconvert_exporter": "python",
   "pygments_lexer": "ipython3",
   "version": "3.12.7"
  }
 },
 "nbformat": 4,
 "nbformat_minor": 4
}
